{
  "cells": [
    {
      "cell_type": "code",
      "execution_count": 2,
      "id": "a09d4ce8-44ac-4fa5-89a1-935559e861ca",
      "metadata": {
        "id": "a09d4ce8-44ac-4fa5-89a1-935559e861ca"
      },
      "outputs": [],
      "source": [
        "import tweepy\n",
        "import json\n",
        "import gzip\n",
        "import glob"
      ]
    },
    {
      "cell_type": "code",
      "execution_count": 3,
      "id": "935e7e6c-da62-432b-84c8-ecf9856f10db",
      "metadata": {
        "id": "935e7e6c-da62-432b-84c8-ecf9856f10db"
      },
      "outputs": [],
      "source": [
        "fname = 'data'"
      ]
    },
    {
      "cell_type": "code",
      "execution_count": 4,
      "id": "4045ff55-0e3b-4b84-9b26-b01c72ae8d2a",
      "metadata": {
        "id": "4045ff55-0e3b-4b84-9b26-b01c72ae8d2a"
      },
      "outputs": [],
      "source": [
        "gz_files = glob.glob('*.gz')"
      ]
    },
    {
      "cell_type": "code",
      "execution_count": 5,
      "id": "643010c2-6c82-4360-ac92-58823484c423",
      "metadata": {
        "colab": {
          "base_uri": "https://localhost:8080/"
        },
        "id": "643010c2-6c82-4360-ac92-58823484c423",
        "outputId": "650a5e24-13f8-4cfd-d12a-5db99bf5bcc3"
      },
      "outputs": [
        {
          "output_type": "execute_result",
          "data": {
            "text/plain": [
              "[]"
            ]
          },
          "metadata": {},
          "execution_count": 5
        }
      ],
      "source": [
        "gz_files"
      ]
    },
    {
      "cell_type": "code",
      "execution_count": 7,
      "id": "d1a2c680-d3be-4c3c-9e74-6b7b0d810988",
      "metadata": {
        "id": "d1a2c680-d3be-4c3c-9e74-6b7b0d810988"
      },
      "outputs": [],
      "source": [
        "last_num = 0\n",
        "for f in gz_files:\n",
        "    name = f.split('.')[0]\n",
        "    num = name[-1]\n",
        "    if int(num) > last_num:\n",
        "        last_num = int(num)\n",
        "last_num += 1"
      ]
    },
    {
      "cell_type": "code",
      "source": [
        "#put your information here\n",
        "auth = tweepy.OAuthHandler('************', '************')\n",
        "auth.set_access_token('************', '************')"
      ],
      "metadata": {
        "id": "8qSmDSO29TaB"
      },
      "id": "8qSmDSO29TaB",
      "execution_count": null,
      "outputs": []
    },
    {
      "cell_type": "code",
      "execution_count": null,
      "id": "d6a6aa90-4b56-4fb1-9a6c-3d92eafe72a6",
      "metadata": {
        "id": "d6a6aa90-4b56-4fb1-9a6c-3d92eafe72a6"
      },
      "outputs": [],
      "source": [
        "api = tweepy.API(auth)"
      ]
    },
    {
      "cell_type": "code",
      "execution_count": null,
      "id": "2e5c0acf-67bd-4497-940b-4b1caff55d96",
      "metadata": {
        "id": "2e5c0acf-67bd-4497-940b-4b1caff55d96"
      },
      "outputs": [],
      "source": [
        "tweets = tweepy.Cursor(api.search_tweets, \"data\", lang='en', count=100).items(10000)"
      ]
    },
    {
      "cell_type": "code",
      "execution_count": null,
      "id": "b02562ef-50dd-43ac-a604-9392edbf1cb3",
      "metadata": {
        "id": "b02562ef-50dd-43ac-a604-9392edbf1cb3"
      },
      "outputs": [],
      "source": [
        "with gzip.open('{}.jsonl.gz'.format(fname + str(last_num)), 'w') as json_file:\n",
        "    for tweet in tweets:\n",
        "        json_file.write(json.dumps(tweet._json).encode('utf8') + b\"\\n\")"
      ]
    }
  ],
  "metadata": {
    "kernelspec": {
      "display_name": "Python 3 (ipykernel)",
      "language": "python",
      "name": "python3"
    },
    "language_info": {
      "codemirror_mode": {
        "name": "ipython",
        "version": 3
      },
      "file_extension": ".py",
      "mimetype": "text/x-python",
      "name": "python",
      "nbconvert_exporter": "python",
      "pygments_lexer": "ipython3",
      "version": "3.7.11"
    },
    "colab": {
      "name": "collect_tweets.ipynb",
      "provenance": []
    }
  },
  "nbformat": 4,
  "nbformat_minor": 5
}